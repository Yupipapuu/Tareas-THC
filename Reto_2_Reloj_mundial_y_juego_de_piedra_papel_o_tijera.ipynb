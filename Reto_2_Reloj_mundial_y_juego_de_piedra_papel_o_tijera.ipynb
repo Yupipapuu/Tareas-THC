{
  "nbformat": 4,
  "nbformat_minor": 0,
  "metadata": {
    "colab": {
      "provenance": [],
      "authorship_tag": "ABX9TyOAjI3CbjrMBmU04+LQMlAl",
      "include_colab_link": true
    },
    "kernelspec": {
      "name": "python3",
      "display_name": "Python 3"
    },
    "language_info": {
      "name": "python"
    }
  },
  "cells": [
    {
      "cell_type": "markdown",
      "metadata": {
        "id": "view-in-github",
        "colab_type": "text"
      },
      "source": [
        "<a href=\"https://colab.research.google.com/github/Yupipapuu/Tareas-THC/blob/main/Reto_2_Reloj_mundial_y_juego_de_piedra_papel_o_tijera.ipynb\" target=\"_parent\"><img src=\"https://colab.research.google.com/assets/colab-badge.svg\" alt=\"Open In Colab\"/></a>"
      ]
    },
    {
      "cell_type": "code",
      "execution_count": 2,
      "metadata": {
        "colab": {
          "base_uri": "https://localhost:8080/"
        },
        "id": "xrikVYJnXHXS",
        "outputId": "b8edbece-c312-40cb-bd99-1fe18675394c"
      },
      "outputs": [
        {
          "output_type": "stream",
          "name": "stdout",
          "text": [
            "Ingrese la hora en la Ciudad de México (en formato 24 horas, ej. 15 para 3 pm): 22\n",
            "Tokio, Japón: 13:00\n",
            "Pekín, China: 12:00\n",
            "Dusambé, Tayikistán: 09:00\n",
            "Perth, Australia: 12:00\n",
            "Katmandú, Nepal: 09:45\n",
            "Vilna, Lituania: 06:00\n",
            "Freetown, Sierra Leona: 04:00\n",
            "Rio de Janeiro, Brasil: 01:00\n",
            "Tegucigalpa, Honduras: 21:00\n",
            "Kingston, Jamaica: 21:00\n",
            "Los Ángeles, EUA: 20:00\n"
          ]
        }
      ],
      "source": [
        "from datetime import timedelta\n",
        "\n",
        "# Hora base para Ciudad de México en formato de 24 horas\n",
        "hora_mexico = int(input(\"Ingrese la hora en la Ciudad de México (en formato 24 horas, ej. 15 para 3 pm): \"))\n",
        "\n",
        "# Diccionario de ciudades con la diferencia horaria respecto a Ciudad de México\n",
        "# Nota: Las horas negativas son para restar, las positivas para sumar.\n",
        "diferencias_horarias = {\n",
        "    \"Tokio, Japón\": 15,\n",
        "    \"Pekín, China\": 14,\n",
        "    \"Dusambé, Tayikistán\": 11,\n",
        "    \"Perth, Australia\": 14,\n",
        "    \"Katmandú, Nepal\": 11.75,\n",
        "    \"Vilna, Lituania\": 8,\n",
        "    \"Freetown, Sierra Leona\": 6,\n",
        "    \"Rio de Janeiro, Brasil\": 3,\n",
        "    \"Tegucigalpa, Honduras\": -1,\n",
        "    \"Kingston, Jamaica\": -1,\n",
        "    \"Los Ángeles, EUA\": -2\n",
        "}\n",
        "\n",
        "# Lista para almacenar los resultados de cada ciudad\n",
        "horas_ciudades = []\n",
        "\n",
        "# Función lambda para calcular la hora en cada ciudad y ajustar al formato de 24 horas\n",
        "calcular_hora = lambda base, diferencia: (base + diferencia) % 24\n",
        "\n",
        "# Cálculo de las horas en cada ciudad usando el diccionario de diferencias\n",
        "for ciudad, diferencia in diferencias_horarias.items():\n",
        "    # Verificamos si la diferencia tiene decimales (Nepal)\n",
        "    if diferencia % 1 != 0:\n",
        "        # Convertimos el valor a minutos si es necesario (0.75 -> 45 minutos)\n",
        "        hora, minutos = divmod(diferencia, 1)\n",
        "        minutos = int(minutos * 60)\n",
        "        nueva_hora = calcular_hora(hora_mexico + int(hora), 0)\n",
        "        horas_ciudades.append(f\"{ciudad}: {nueva_hora:02d}:{minutos:02d}\")\n",
        "    else:\n",
        "        # Cálculo directo para diferencias enteras\n",
        "        nueva_hora = calcular_hora(hora_mexico, diferencia)\n",
        "        horas_ciudades.append(f\"{ciudad}: {nueva_hora:02d}:00\")\n",
        "\n",
        "# Impresión de la hora en cada ciudad\n",
        "for hora in horas_ciudades:\n",
        "    print(hora)\n"
      ]
    },
    {
      "cell_type": "code",
      "source": [
        "# Hora base para Ciudad de México en formato de 24 horas\n",
        "hora_mexico = int(input(\"Ingrese la hora en la Ciudad de México (en formato 24 horas, ej. 15 para 3 pm): \"))\n",
        "\n",
        "# Diccionario con las diferencias horarias en horas respecto a Ciudad de México\n",
        "diferencias_horarias = {\n",
        "    \"Tokio, Japón\": 15,\n",
        "    \"Pekín, China\": 14,\n",
        "    \"Dusambé, Tayikistán\": 11,\n",
        "    \"Perth, Australia\": 14,\n",
        "    \"Katmandú, Nepal\": 11,  # Nepal tiene 45 minutos adicionales, los agregaremos manualmente\n",
        "    \"Vilna, Lituania\": 8,\n",
        "    \"Freetown, Sierra Leona\": 6,\n",
        "    \"Rio de Janeiro, Brasil\": 3,\n",
        "    \"Tegucigalpa, Honduras\": -1,\n",
        "    \"Kingston, Jamaica\": -1,\n",
        "    \"Los Ángeles, EUA\": -2\n",
        "}\n",
        "\n",
        "# Lambda para calcular la hora y asegurar que no exceda las 24 horas\n",
        "calcular_hora = lambda hora, dif: (hora + dif) % 24\n",
        "\n",
        "# Imprimir la hora de cada ciudad ajustando manualmente los minutos para Katmandú\n",
        "for ciudad, diferencia in diferencias_horarias.items():\n",
        "    if ciudad == \"Katmandú, Nepal\":\n",
        "        hora_ajustada = calcular_hora(hora_mexico, diferencia)\n",
        "        print(f\"{ciudad}: {hora_ajustada:02d}:45\")  # Agregamos los 45 minutos adicionales\n",
        "    else:\n",
        "        hora_ajustada = calcular_hora(hora_mexico, diferencia)\n",
        "        print(f\"{ciudad}: {hora_ajustada:02d}:00\")\n"
      ],
      "metadata": {
        "colab": {
          "base_uri": "https://localhost:8080/"
        },
        "id": "M7FjZaEjrpRt",
        "outputId": "3fe3fa1f-7b19-4f36-879e-96e5f72bb3ce"
      },
      "execution_count": 7,
      "outputs": [
        {
          "output_type": "stream",
          "name": "stdout",
          "text": [
            "Ingrese la hora en la Ciudad de México (en formato 24 horas, ej. 15 para 3 pm): 12\n",
            "Tokio, Japón: 03:00\n",
            "Pekín, China: 02:00\n",
            "Dusambé, Tayikistán: 23:00\n",
            "Perth, Australia: 02:00\n",
            "Katmandú, Nepal: 23:45\n",
            "Vilna, Lituania: 20:00\n",
            "Freetown, Sierra Leona: 18:00\n",
            "Rio de Janeiro, Brasil: 15:00\n",
            "Tegucigalpa, Honduras: 11:00\n",
            "Kingston, Jamaica: 11:00\n",
            "Los Ángeles, EUA: 10:00\n"
          ]
        }
      ]
    },
    {
      "cell_type": "code",
      "source": [
        "import random\n",
        "\n",
        "# Opciones posibles\n",
        "opciones = [\"piedra\", \"papel\", \"tijeras\"]\n",
        "\n",
        "# Función lambda para determinar el resultado del juego\n",
        "resultado_juego = lambda jugador, computadora: (\n",
        "    \"Empate\" if jugador == computadora else\n",
        "    \"Victoria\" if (jugador == \"piedra\" and computadora == \"tijeras\") or\n",
        "                  (jugador == \"papel\" and computadora == \"piedra\") or\n",
        "                  (jugador == \"tijeras\" and computadora == \"papel\") else\n",
        "    \"Derrota\"\n",
        ")\n",
        "\n",
        "# Función principal del juego\n",
        "def jugar():\n",
        "    jugador = input(\"Elige piedra, papel o tijeras: \").lower()\n",
        "\n",
        "    # Validamos la entrada del usuario\n",
        "    if jugador not in opciones:\n",
        "        print(\"Opción no válida. Por favor elige piedra, papel o tijeras.\")\n",
        "        return\n",
        "\n",
        "    computadora = random.choice(opciones)\n",
        "    print(f\"Computadora elige: {computadora}\")\n",
        "\n",
        "    # Calculamos el resultado\n",
        "    resultado = resultado_juego(jugador, computadora)\n",
        "    print(f\"Resultado: {resultado}\")\n",
        "\n",
        "# Ejecutar el juego\n",
        "jugar()\n"
      ],
      "metadata": {
        "colab": {
          "base_uri": "https://localhost:8080/"
        },
        "id": "6xMl2FaPsrD6",
        "outputId": "2db25699-aa8e-4e94-fbcf-65cbca403e6b"
      },
      "execution_count": 9,
      "outputs": [
        {
          "output_type": "stream",
          "name": "stdout",
          "text": [
            "Elige piedra, papel o tijeras: tijeras\n",
            "Computadora elige: tijeras\n",
            "Resultado: Empate\n"
          ]
        }
      ]
    }
  ]
}