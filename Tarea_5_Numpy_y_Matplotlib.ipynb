{
  "nbformat": 4,
  "nbformat_minor": 0,
  "metadata": {
    "colab": {
      "provenance": [],
      "include_colab_link": true
    },
    "kernelspec": {
      "name": "python3",
      "display_name": "Python 3"
    },
    "language_info": {
      "name": "python"
    }
  },
  "cells": [
    {
      "cell_type": "markdown",
      "metadata": {
        "id": "view-in-github",
        "colab_type": "text"
      },
      "source": [
        "<a href=\"https://colab.research.google.com/github/Yupipapuu/Tareas-THC/blob/main/Tarea_5_Numpy_y_Matplotlib.ipynb\" target=\"_parent\"><img src=\"https://colab.research.google.com/assets/colab-badge.svg\" alt=\"Open In Colab\"/></a>"
      ]
    },
    {
      "cell_type": "code",
      "source": [
        "#ALEXANDER EMILIANO BLANCO VELAZQUEZ\n",
        "#PACHECO VELASCO JORGE ABI\n",
        "#numpy 1\n",
        "def sumar_matrices(matriz_a, matriz_b):\n",
        "    # Verificar que ambas matrices tienen el mismo tamaño\n",
        "    if len(matriz_a) != len(matriz_b) or len(matriz_a[0]) != len(matriz_b[0]):\n",
        "        print(\"Error: Las matrices deben tener el mismo tamaño para sumarlas.\")\n",
        "        return None  # Salida controlada\n",
        "    # Crear una matriz para almacenar los resultados\n",
        "    resultado = []\n",
        "    for i in range(len(matriz_a)):  # Iterar sobre las filas\n",
        "        fila = []\n",
        "        for j in range(len(matriz_a[0])):  # Iterar sobre las columnas\n",
        "            suma = matriz_a[i][j] + matriz_b[i][j]  # Sumar elementos correspondientes\n",
        "            fila.append(suma)  # Agregar el resultado a la fila\n",
        "        resultado.append(fila)  # Agregar la fila a la matriz resultante\n",
        "    return resultado\n",
        "\n",
        "# Solicitar matrices al usuario\n",
        "def ingresar_matriz(filas, columnas):\n",
        "    print(f\"Ingrese los elementos de la matriz de tamaño {filas}x{columnas}:\")\n",
        "    matriz = []\n",
        "    for i in range(filas):\n",
        "        fila = list(map(int, input(f\"Fila {i + 1}: \").split()))  # Leer una fila como una lista\n",
        "        if len(fila) != columnas:\n",
        "            print(\"Error: El número de columnas no coincide.\")\n",
        "            return None  # Salida controlada\n",
        "        matriz.append(fila)\n",
        "    return matriz\n",
        "\n",
        "# Declaración de variables\n",
        "filas = int(input(\"Ingrese el número de filas: \"))\n",
        "columnas = int(input(\"Ingrese el número de columnas: \"))\n",
        "\n",
        "# Leer la primera matriz\n",
        "print(\"Primera matriz:\")\n",
        "matriz_a = ingresar_matriz(filas, columnas)\n",
        "if matriz_a is None:\n",
        "    exit()\n",
        "\n",
        "# Leer la segunda matriz\n",
        "print(\"Segunda matriz:\")\n",
        "matriz_b = ingresar_matriz(filas, columnas)\n",
        "if matriz_b is None:\n",
        "    exit()\n",
        "\n",
        "# Sumar matrices\n",
        "resultado = sumar_matrices(matriz_a, matriz_b)\n",
        "if resultado is not None:\n",
        "    print(\"Suma de matrices:\")\n",
        "    for fila in resultado:\n",
        "        print(fila)\n"
      ],
      "metadata": {
        "colab": {
          "base_uri": "https://localhost:8080/"
        },
        "id": "zsNKIMFSTCvS",
        "outputId": "701be640-a7c2-45a7-dc82-7623c53b6096"
      },
      "execution_count": null,
      "outputs": [
        {
          "output_type": "stream",
          "name": "stdout",
          "text": [
            "Ingrese el número de filas: 3\n",
            "Ingrese el número de columnas: 3\n",
            "Primera matriz:\n",
            "Ingrese los elementos de la matriz de tamaño 3x3:\n",
            "Fila 1: 3 4 5\n",
            "Fila 2: 7 8 9\n",
            "Fila 3: 6 6 6\n",
            "Segunda matriz:\n",
            "Ingrese los elementos de la matriz de tamaño 3x3:\n",
            "Fila 1: 3 2 1\n",
            "Fila 2: 6 8 9\n",
            "Fila 3: 0 0 0\n",
            "Suma de matrices:\n",
            "[6, 6, 6]\n",
            "[13, 16, 18]\n",
            "[6, 6, 6]\n"
          ]
        }
      ]
    },
    {
      "cell_type": "code",
      "source": [
        "#ALEXANDER EMILIANO BLANCO VELAZQUEZ\n",
        "#PACHECO VELASCO JORGE ABI\n",
        "#numpy 2\n",
        "def multiplicar_matrices_entrada(matriz_a, matriz_b):\n",
        "    # Verificar que ambas matrices tienen el mismo tamaño\n",
        "    if len(matriz_a) != len(matriz_b) or len(matriz_a[0]) != len(matriz_b[0]):\n",
        "        print(\"Error: Las matrices deben tener el mismo tamaño para multiplicarlas entrada por entrada.\")\n",
        "        return None  # Salida controlada\n",
        "    # Crear una matriz para almacenar los resultados\n",
        "    resultado = []\n",
        "    for i in range(len(matriz_a)):  # Iterar sobre las filas\n",
        "        fila = []\n",
        "        for j in range(len(matriz_a[0])):  # Iterar sobre las columnas\n",
        "            producto = matriz_a[i][j] * matriz_b[i][j]  # Multiplicar elementos correspondientes\n",
        "            fila.append(producto)  # Agregar el resultado a la fila\n",
        "        resultado.append(fila)  # Agregar la fila a la matriz resultante\n",
        "    return resultado\n",
        "\n",
        "# Solicitar matrices al usuario\n",
        "def ingresar_matriz(filas, columnas):\n",
        "    print(f\"Ingrese los elementos de la matriz de tamaño {filas}x{columnas}:\")\n",
        "    matriz = []\n",
        "    for i in range(filas):\n",
        "        fila = list(map(int, input(f\"Fila {i + 1}: \").split()))\n",
        "        if len(fila) != columnas:\n",
        "            print(\"Error: El número de columnas no coincide.\")\n",
        "            return None  # Salida controlada\n",
        "        matriz.append(fila)\n",
        "    return matriz\n",
        "\n",
        "# Declaración de variables\n",
        "filas = int(input(\"Ingrese el número de filas: \"))\n",
        "columnas = int(input(\"Ingrese el número de columnas: \"))\n",
        "\n",
        "# Leer la primera matriz\n",
        "print(\"Primera matriz:\")\n",
        "matriz_a = ingresar_matriz(filas, columnas)\n",
        "if matriz_a is None:\n",
        "    exit()\n",
        "\n",
        "# Leer la segunda matriz\n",
        "print(\"Segunda matriz:\")\n",
        "matriz_b = ingresar_matriz(filas, columnas)\n",
        "if matriz_b is None:\n",
        "    exit()\n",
        "\n",
        "# Multiplicar matrices entrada por entrada\n",
        "resultado = multiplicar_matrices_entrada(matriz_a, matriz_b)\n",
        "if resultado is not None:\n",
        "    print(\"Producto entrada por entrada:\")\n",
        "    for fila in resultado:\n",
        "        print(fila)"
      ],
      "metadata": {
        "id": "BF977YkoWm33",
        "colab": {
          "base_uri": "https://localhost:8080/"
        },
        "outputId": "2092c504-7189-4b08-a418-8bd141a66303"
      },
      "execution_count": null,
      "outputs": [
        {
          "output_type": "stream",
          "name": "stdout",
          "text": [
            "Ingrese el número de filas: 3\n",
            "Ingrese el número de columnas: 3\n",
            "Primera matriz:\n",
            "Ingrese los elementos de la matriz de tamaño 3x3:\n",
            "Fila 1: 3 4 5\n",
            "Fila 2: 9 8 7\n",
            "Fila 3: 6 6 6\n",
            "Segunda matriz:\n",
            "Ingrese los elementos de la matriz de tamaño 3x3:\n",
            "Fila 1: 3 2 1\n",
            "Fila 2: 3 4 5\n",
            "Fila 3: 0 0 0\n",
            "Producto entrada por entrada:\n",
            "[9, 8, 5]\n",
            "[27, 32, 35]\n",
            "[0, 0, 0]\n"
          ]
        }
      ]
    },
    {
      "cell_type": "code",
      "source": [
        "#ALEXANDER EMILIANO BLANCO VELAZQUEZ\n",
        "#PACHECO VELASCO JORGE ABI\n",
        "#numpy 3\n",
        "def calcular_traza(matriz):\n",
        "    # Verificar que la matriz es cuadrada\n",
        "    if len(matriz) != len(matriz[0]):\n",
        "        print(\"Error: La matriz debe ser cuadrada para calcular la traza.\")\n",
        "        return None  # Salida controlada\n",
        "    # Calcular la traza sumando los elementos de la diagonal principal\n",
        "    traza = 0\n",
        "    for i in range(len(matriz)):\n",
        "        traza += matriz[i][i]\n",
        "    return traza\n",
        "\n",
        "# Solicitar una matriz cuadrada al usuario\n",
        "def ingresar_matriz_cuadrada(n):\n",
        "    print(f\"Ingrese los elementos de la matriz cuadrada de tamaño {n}x{n}:\")\n",
        "    matriz = []\n",
        "    for i in range(n):\n",
        "        fila = list(map(int, input(f\"Fila {i + 1}: \").split()))\n",
        "        if len(fila) != n:\n",
        "            print(\"Error: El número de columnas no coincide.\")\n",
        "            return None  # Salida controlada\n",
        "        matriz.append(fila)\n",
        "    return matriz\n",
        "\n",
        "# Declaración de variables\n",
        "n = int(input(\"Ingrese el tamaño de la matriz cuadrada (n): \"))\n",
        "\n",
        "# Leer la matriz\n",
        "matriz = ingresar_matriz_cuadrada(n)\n",
        "if matriz is None:\n",
        "    exit()\n",
        "\n",
        "# Calcular la traza\n",
        "traza = calcular_traza(matriz)\n",
        "if traza is not None:\n",
        "    print(\"Traza de la matriz:\", traza)"
      ],
      "metadata": {
        "id": "u4xtBZJLMvEP"
      },
      "execution_count": null,
      "outputs": []
    },
    {
      "cell_type": "code",
      "source": [
        "#ALEXANDER EMILIANO BLANCO VELAZQUEZ\n",
        "#PACHECO VELASCO JORGE ABI\n",
        "#numpy 3\n",
        "def calcular_traza(matriz):\n",
        "    if len(matriz) != len(matriz[0]):\n",
        "        raise ValueError(\"La matriz debe ser cuadrada para calcular la traza.\")\n",
        "    traza = 0\n",
        "    for i in range(len(matriz)):\n",
        "        traza += matriz[i][i]\n",
        "    return traza\n",
        "\n",
        "# Solicitar matriz al usuario\n",
        "def ingresar_matriz_cuadrada(n):\n",
        "    print(f\"Ingrese los elementos de la matriz cuadrada de tamaño {n}x{n}:\")\n",
        "    matriz = []\n",
        "    for i in range(n):\n",
        "        fila = list(map(int, input(f\"Fila {i + 1}: \").split()))\n",
        "        if len(fila) != n:\n",
        "            raise ValueError(\"El número de columnas no coincide.\")\n",
        "        matriz.append(fila)\n",
        "    return matriz\n",
        "\n",
        "n = int(input(\"Ingrese el tamaño de la matriz cuadrada (n): \"))\n",
        "matriz = ingresar_matriz_cuadrada(n)\n",
        "\n",
        "print(\"Traza de la matriz:\", calcular_traza(matriz))"
      ],
      "metadata": {
        "colab": {
          "base_uri": "https://localhost:8080/"
        },
        "id": "9vbSAl2mMnoz",
        "outputId": "a06d896e-5cff-42cd-cd66-2d3e3f6bf5fb"
      },
      "execution_count": null,
      "outputs": [
        {
          "output_type": "stream",
          "name": "stdout",
          "text": [
            "Ingrese el tamaño de la matriz cuadrada (n): 3\n",
            "Ingrese los elementos de la matriz cuadrada de tamaño 3x3:\n",
            "Fila 1: 3 5 4\n",
            "Fila 2: 7 8 9\n",
            "Fila 3: 4 6 1\n",
            "Traza de la matriz: 12\n"
          ]
        }
      ]
    },
    {
      "cell_type": "code",
      "source": [
        "#ALEXANDER EMILIANO BLANCO VELAZQUEZ\n",
        "#PACHECO VELASCO JORGE ABI\n",
        "#numpy 4\n",
        "def transponer_matriz(matriz):\n",
        "    filas = len(matriz)\n",
        "    columnas = len(matriz[0])\n",
        "    # Crear una matriz para almacenar la transpuesta\n",
        "    transpuesta = []\n",
        "    for j in range(columnas):  # Iterar sobre las columnas\n",
        "        fila = []\n",
        "        for i in range(filas):  # Iterar sobre las filas\n",
        "            fila.append(matriz[i][j])  # Tomar el elemento de la posición transpuesta\n",
        "        transpuesta.append(fila)\n",
        "    return transpuesta\n",
        "\n",
        "# Solicitar una matriz al usuario\n",
        "def ingresar_matriz(filas, columnas):\n",
        "    print(f\"Ingrese los elementos de la matriz de tamaño {filas}x{columnas}:\")\n",
        "    matriz = []\n",
        "    for i in range(filas):\n",
        "        fila = list(map(int, input(f\"Fila {i + 1}: \").split()))\n",
        "        if len(fila) != columnas:\n",
        "            print(\"Error: El número de columnas no coincide.\")\n",
        "            return None  # Salida controlada\n",
        "        matriz.append(fila)\n",
        "    return matriz\n",
        "\n",
        "# Declaración de variables\n",
        "filas = int(input(\"Ingrese el número de filas: \"))\n",
        "columnas = int(input(\"Ingrese el número de columnas: \"))\n",
        "\n",
        "# Leer la matriz\n",
        "matriz = ingresar_matriz(filas, columnas)\n",
        "if matriz is None:\n",
        "    exit()\n",
        "\n",
        "# Transponer la matriz\n",
        "transpuesta = transponer_matriz(matriz)\n",
        "print(\"Transpuesta de la matriz:\")\n",
        "for fila in transpuesta:\n",
        "    print(fila)"
      ],
      "metadata": {
        "id": "eJZLO_8nNxax",
        "colab": {
          "base_uri": "https://localhost:8080/"
        },
        "outputId": "9d6a06e1-c207-4c50-aac8-4e9ced9bc35e"
      },
      "execution_count": null,
      "outputs": [
        {
          "output_type": "stream",
          "name": "stdout",
          "text": [
            "Ingrese el número de filas: 3\n",
            "Ingrese el número de columnas: 3\n",
            "Ingrese los elementos de la matriz de tamaño 3x3:\n",
            "Fila 1: 3 5 7\n",
            "Fila 2: 6 9 8\n",
            "Fila 3: 2 1 4\n",
            "Transpuesta de la matriz:\n",
            "[3, 6, 2]\n",
            "[5, 9, 1]\n",
            "[7, 8, 4]\n"
          ]
        }
      ]
    },
    {
      "cell_type": "code",
      "source": [
        "#ALEXANDER EMILIANO BLANCO VELAZQUEZ\n",
        "#PACHECO VELASCO JORGE ABI\n",
        "#numpy 5\n",
        "def encontrar_maximo_minimo(matriz):\n",
        "\n",
        "    maximo = float('-inf') #valor mayor a -inf\n",
        "    minimo = float('inf') #valor menor a inf\n",
        "\n",
        "    for fila in matriz:#ciclo for de fila a matriz\n",
        "        for elemento in fila:\n",
        "            if elemento > maximo:#si pasa esto lo imprime\n",
        "                maximo = elemento\n",
        "            if elemento < minimo:#si no pasa lo de arriba hace esto\n",
        "                minimo = elemento\n",
        "\n",
        "    return maximo, minimo\n",
        "\n",
        "matriz = [\n",
        "    [3, 5, 7],\n",
        "    [2, 8, -1],\n",
        "    [4, 6, 0]\n",
        "]\n",
        "\n",
        "maximo, minimo = encontrar_maximo_minimo(matriz)#\n",
        "print(f\"Máximo: {maximo}\")\n",
        "print(f\"Mínimo: {minimo}\")"
      ],
      "metadata": {
        "colab": {
          "base_uri": "https://localhost:8080/"
        },
        "id": "cvc8bjem_KAZ",
        "outputId": "a1fc37f2-0cf4-4a8b-d78a-f49efbaab9d5"
      },
      "execution_count": null,
      "outputs": [
        {
          "output_type": "stream",
          "name": "stdout",
          "text": [
            "Máximo: 8\n",
            "Mínimo: -1\n"
          ]
        }
      ]
    },
    {
      "cell_type": "code",
      "source": [
        "#ALEXANDER EMILIANO BLANCO VELAZQUEZ\n",
        "#PACHECO VELASCO JORGE ABI\n",
        "# numpy 6\n",
        "def suma_cuadrados_matriz(matriz):#declarando mi variable\n",
        "\n",
        "  suma = 0#inicializa la variable suma\n",
        "  for fila in matriz:#inicia un ciclo para que ejecute\n",
        "    for elemento in fila:\n",
        "      suma += elemento ** 2#sumar el valor de la derecha al valor que se esta manejando de la variable\n",
        "  return suma\n",
        "\n",
        "matriz = [\n",
        "    [1, 2, 3],\n",
        "    [4, 5, 6],\n",
        "    [7, 8, 9]\n",
        "]\n",
        "\n",
        "suma_cuadrados = suma_cuadrados_matriz(matriz)\n",
        "print(f\"La suma del cuadrado de los elementos de la matriz es: {suma_cuadrados}\")"
      ],
      "metadata": {
        "colab": {
          "base_uri": "https://localhost:8080/"
        },
        "id": "3XjbXMRZCjim",
        "outputId": "68bbf179-9cb6-4d3d-8dba-d4ab3200629d"
      },
      "execution_count": null,
      "outputs": [
        {
          "output_type": "stream",
          "name": "stdout",
          "text": [
            "La suma del cuadrado de los elementos de la matriz es: 285\n"
          ]
        }
      ]
    },
    {
      "cell_type": "code",
      "source": [
        "#ALEXANDER EMILIANO BLANCO VELAZQUEZ\n",
        "#PACHECO VELASCO JORGE ABI\n",
        "# 7 numpy\n",
        "def potencia_matriz(matriz, exponente):\n",
        "\n",
        "    # se crea la matriz identidad del mismo tamaño que la matriz\n",
        "    n = len(matriz)\n",
        "    identidad = [[1 if i == j else 0 for j in range(n)] for i in range(n)]\n",
        "\n",
        "    # Multiplicar la matriz por sí misma exponente veces\n",
        "    resultado = matriz\n",
        "    for _ in range(exponente - 1):\n",
        "        resultado = multiplicar_matrices(resultado, matriz)\n",
        "\n",
        "    return resultado\n",
        "\n",
        "def multiplicar_matrices(A, B):\n",
        "    # se multiplican las dos matrices cuadradas\n",
        "    n = len(A)\n",
        "    resultado = [[0] * n for _ in range(n)]\n",
        "    for i in range(n):\n",
        "        for j in range(n):\n",
        "            for k in range(n):\n",
        "                resultado[i][j] += A[i][k] * B[k][j]\n",
        "    return resultado\n",
        "\n",
        "matriz = [\n",
        "    [2, 1],\n",
        "    [1, 3]\n",
        "]\n",
        "\n",
        "exponente = 4\n",
        "\n",
        "resultado = potencia_matriz(matriz, exponente)\n",
        "\n",
        "print(\"Resultado de la matriz elevada a la potencia\", exponente)\n",
        "for fila in resultado:\n",
        "    print(fila)"
      ],
      "metadata": {
        "colab": {
          "base_uri": "https://localhost:8080/"
        },
        "id": "ryauYuA9C5EB",
        "outputId": "c55aa9ba-3d9d-48ee-bd2a-f547ec1d9eb4"
      },
      "execution_count": null,
      "outputs": [
        {
          "output_type": "stream",
          "name": "stdout",
          "text": [
            "Resultado de la matriz elevada a la potencia 4\n",
            "[50, 75]\n",
            "[75, 125]\n"
          ]
        }
      ]
    },
    {
      "cell_type": "code",
      "source": [
        "#ALEXANDER EMILIANO BLANCO VELAZQUEZ\n",
        "#PACHECO VELASCO JORGE ABI\n",
        "#numpy 8\n",
        "A = [\n",
        "    [11, 7, -1],\n",
        "    [-3, 5, 2],\n",
        "    [4, 2, -2]\n",
        "]\n",
        "\n",
        "B = [\n",
        "    [1, 1, 1],\n",
        "    [10, 3, -5],\n",
        "    [-6, -10, -3]\n",
        "]\n",
        "\n",
        "# operacion para sumar matrices\n",
        "def sumar_matrices(M1, M2):\n",
        "    return [[M1[i][j] + M2[i][j] for j in range(len(M1[0]))] for i in range(len(M1))]\n",
        "\n",
        "# operacion para escalar una matriz\n",
        "def escalar_matriz(matriz, escalar):\n",
        "    return [[escalar * matriz[i][j] for j in range(len(matriz[0]))] for i in range(len(matriz))]\n",
        "\n",
        "# operacion para multiplicar matrices\n",
        "def multiplicar_matrices(M1, M2):\n",
        "    n = len(M1)\n",
        "    resultado = [[0] * n for _ in range(n)]\n",
        "    for i in range(n):\n",
        "        for j in range(n):\n",
        "            for k in range(n):\n",
        "                resultado[i][j] += M1[i][k] * M2[k][j]\n",
        "    return resultado\n",
        "\n",
        "# Operación 1: 2B + 3A\n",
        "dos_B = escalar_matriz(B, 2)\n",
        "tres_A = escalar_matriz(A, 3)\n",
        "dos_B_mas_tres_A = sumar_matrices(dos_B, tres_A)\n",
        "\n",
        "# Operación 2: (B + 2A)^2\n",
        "dos_A = escalar_matriz(A, 2)\n",
        "B_mas_dos_A = sumar_matrices(B, dos_A)\n",
        "B_mas_dos_A_cuadrado = multiplicar_matrices(B_mas_dos_A, B_mas_dos_A)\n",
        "\n",
        "# Operación 3: A^2 + 3B\n",
        "A_cuadrado = multiplicar_matrices(A, A)\n",
        "tres_B = escalar_matriz(B, 3)\n",
        "A_cuadrado_mas_tres_B = sumar_matrices(A_cuadrado, tres_B)\n",
        "\n",
        "# Mostrar los resultados\n",
        "print(\"Resultado de 2B + 3A:\")\n",
        "for fila in dos_B_mas_tres_A:\n",
        "    print(fila)\n",
        "\n",
        "print(\"\\nResultado de (B + 2A)^2:\")\n",
        "for fila in B_mas_dos_A_cuadrado:\n",
        "    print(fila)\n",
        "\n",
        "print(\"\\nResultado de A^2 + 3B:\")\n",
        "for fila in A_cuadrado_mas_tres_B:\n",
        "    print(fila)"
      ],
      "metadata": {
        "colab": {
          "base_uri": "https://localhost:8080/"
        },
        "id": "EBXvPpDXDUvq",
        "outputId": "1474cdc7-fdab-47ae-b4ee-dd49dc7dc778"
      },
      "execution_count": null,
      "outputs": [
        {
          "output_type": "stream",
          "name": "stdout",
          "text": [
            "Resultado de 2B + 3A:\n",
            "[35, 23, -1]\n",
            "[11, 21, -4]\n",
            "[0, -14, -12]\n",
            "\n",
            "Resultado de (B + 2A)^2:\n",
            "[587, 546, -31]\n",
            "[142, 235, -10]\n",
            "[8, -6, 53]\n",
            "\n",
            "Resultado de A^2 + 3B:\n",
            "[99, 113, 8]\n",
            "[-10, 17, -6]\n",
            "[12, 4, -5]\n"
          ]
        }
      ]
    },
    {
      "cell_type": "code",
      "source": [
        "#ALEXANDER EMILIANO BLANCO VELAZQUEZ\n",
        "#PACHECO VELASCO JORGE ABI\n",
        "#MATPLOTLIB 1\n",
        "import numpy as np  # Biblioteca para trabajar con arreglos numéricos y funciones matemáticas\n",
        "import matplotlib.pyplot as plt  # Biblioteca para crear gráficos\n",
        "\n",
        "# Definición de la función solución de la ecuación diferencial\n",
        "def solucion(x, C):\n",
        "    \"\"\"\n",
        "    Calcula la solución de la ecuación diferencial para un valor dado de x y C.\n",
        "    y = (x - 1) + C * exp(-x)\n",
        "\n",
        "    Parámetros:\n",
        "    - x: valores del dominio\n",
        "    - C: constante de integración\n",
        "\n",
        "    Retorna:\n",
        "    - y: valores calculados de la solución\n",
        "    \"\"\"\n",
        "    return (x - 1) + C * np.exp(-x)\n",
        "\n",
        "# Declarar el rango de valores de x\n",
        "x = np.linspace(-3, 3, 500)  # Genera 500 valores equidistantes entre -3 y 3\n",
        "\n",
        "# Declarar los valores de C para los tres casos\n",
        "C_mayor_0 = [1, 2]   # Valores positivos de C\n",
        "C_igual_0 = [0]         # Caso especial cuando C = 0\n",
        "C_menor_0 = [-1, -2,]  # Valores negativos de C\n",
        "\n",
        "# Crear la figura y los ejes\n",
        "plt.figure(figsize=(10, 6))  # Configura el tamaño de la figura (ancho, alto)\n",
        "\n",
        "# Graficar las curvas para C > 0\n",
        "for C in C_mayor_0:\n",
        "    y = solucion(x, C)  # Calcular y para cada valor de C > 0\n",
        "    plt.plot(x, y, label=f'C = {C}', linestyle='--')  # Graficar con líneas discontinuas\n",
        "\n",
        "# Graficar la curva para C = 0\n",
        "for C in C_igual_0:\n",
        "    y = solucion(x, C)  # Calcular y para C = 0\n",
        "    plt.plot(x, y, label=f'C = {C}', color='black', linewidth=2)  # Línea negra sólida más gruesa\n",
        "\n",
        "# Graficar las curvas para C < 0\n",
        "for C in C_menor_0:\n",
        "    y = solucion(x, C)  # Calcular y para cada valor de C < 0\n",
        "    plt.plot(x, y, label=f'C = {C}', linestyle=':')  # Graficar con líneas punteadas\n",
        "\n",
        "# Personalización del gráfico\n",
        "plt.title('Familia de soluciones de la ecuación diferencial', fontsize=14)  # Título del gráfico\n",
        "plt.xlabel('x', fontsize=12)  # Etiqueta del eje x\n",
        "plt.ylabel('y', fontsize=12)  # Etiqueta del eje y\n",
        "plt.axhline(0, color='gray', linestyle='--', linewidth=0.8)  # Línea horizontal en y=0\n",
        "plt.axvline(0, color='gray', linestyle='--', linewidth=0.8)  # Línea vertical en x=0\n",
        "plt.grid(alpha=0.3)  # Activar la cuadrícula con transparencia\n",
        "plt.legend(title='Valores de C', fontsize=10, loc='upper left')  # Agregar leyenda con título\n",
        "plt.show()  # Mostrar el gráfico\n"
      ],
      "metadata": {
        "id": "1lEFXw3kUNR8",
        "colab": {
          "base_uri": "https://localhost:8080/",
          "height": 569
        },
        "outputId": "04c8b21c-832a-4817-f446-c3db0e6f2e1b"
      },
      "execution_count": null,
      "outputs": [
        {
          "output_type": "display_data",
          "data": {
            "text/plain": [
              "<Figure size 1000x600 with 1 Axes>"
            ],
            "image/png": "[encoded data removed]"
          },
          "metadata": {}
        }
      ]
    },
    {
      "cell_type": "code",
      "execution_count": null,
      "metadata": {
        "id": "lniiYi5evWfJ",
        "colab": {
          "base_uri": "https://localhost:8080/",
          "height": 435
        },
        "outputId": "cf54a41f-011d-489a-a0d9-0148061f7a67"
      },
      "outputs": [
        {
          "output_type": "display_data",
          "data": {
            "text/plain": [
              "<Figure size 640x480 with 1 Axes>"
            ],
            "image/png": "[encoded data removed]"
          },
          "metadata": {}
        }
      ],
      "source": [
        "#ALEXANDER EMILIANO BLANCO VELAZQUEZ\n",
        "#PACHECO VELASCO JORGE ABI\n",
        "#MATPLOTLIB 2\n",
        "import matplotlib.pyplot as plt\n",
        "import numpy as np\n",
        "\n",
        "def f(x):\n",
        "  return (3*x + 7) / (x**2 - 4)\n",
        "\n",
        "# Rango de valores de x\n",
        "x = np.linspace(-10, 10, 1000)\n",
        "y = f(x)\n",
        "\n",
        "# asíntotas verticales\n",
        "asymptotes_vertical = [2, -2]\n",
        "# asíntota horizontal\n",
        "asymptote_horizontal = 0  #el limite de esa ecuacion tiende a 0\n",
        "\n",
        "plt.plot(x, y, label='Función')\n",
        "#asíntotas verticales  líneas punteadas\n",
        "for asymptote in asymptotes_vertical:\n",
        "  plt.axvline(x=asymptote, color='r', linestyle='--', label='Asintota vertical')\n",
        "# asíntota horizontal  línea punteadas\n",
        "plt.axhline(y=asymptote_horizontal, color='g', linestyle='--', label='Asintota horizontal')\n",
        "\n",
        "plt.ylim(-10, 10)\n",
        "plt.legend()\n",
        "plt.show()"
      ]
    }
  ]
}