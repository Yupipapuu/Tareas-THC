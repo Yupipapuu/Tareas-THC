{
  "nbformat": 4,
  "nbformat_minor": 0,
  "metadata": {
    "colab": {
      "provenance": [],
      "authorship_tag": "ABX9TyOmfnr+AoTPOLa6+f6IHpAc",
      "include_colab_link": true
    },
    "kernelspec": {
      "name": "python3",
      "display_name": "Python 3"
    },
    "language_info": {
      "name": "python"
    }
  },
  "cells": [
    {
      "cell_type": "markdown",
      "metadata": {
        "id": "view-in-github",
        "colab_type": "text"
      },
      "source": [
        "<a href=\"https://colab.research.google.com/github/Yupipapuu/Tareas-THC/blob/main/Tarea_4_THC.ipynb\" target=\"_parent\"><img src=\"https://colab.research.google.com/assets/colab-badge.svg\" alt=\"Open In Colab\"/></a>"
      ]
    },
    {
      "cell_type": "code",
      "execution_count": null,
      "metadata": {
        "id": "Jgn_OPf0U-Uv"
      },
      "outputs": [],
      "source": []
    },
    {
      "cell_type": "markdown",
      "source": [
        "Tarea 4 THC"
      ],
      "metadata": {
        "id": "N0sual_uNx3x"
      }
    },
    {
      "cell_type": "markdown",
      "source": [
        "Ejercicio 1"
      ],
      "metadata": {
        "id": "f0sD_JBAN3Qr"
      }
    },
    {
      "cell_type": "code",
      "source": [
        "def convertir_dolares(dolares):\n",
        "    # Tasas de cambio fijas (valores de ejemplo, puedes actualizar con tasas reales)\n",
        "    tasas_cambio = {\n",
        "        'MXN': 19.50,  # Peso mexicano\n",
        "        'EUR': 0.85,   # Euro\n",
        "        'GBP': 0.75,   # Libra esterlina\n",
        "        'CNY': 6.45,   # Yuan chino\n",
        "        'RUB': 75.0    # Rublo ruso\n",
        "    }\n",
        "\n",
        "    # Mostrar la tasa de cambio y los resultados de conversión\n",
        "    print(f\"Tasa de cambio fija para $1 USD:\")\n",
        "    for moneda, tasa in tasas_cambio.items():\n",
        "        print(f\"1 USD = {tasa} {moneda}\")\n",
        "        print(f\"{dolares} USD son {dolares * tasa:.2f} {moneda}\")\n",
        "\n",
        "# Solicitar cantidad en dólares al usuario\n",
        "cantidad_dolares = float(input(\"Ingrese la cantidad en dólares estadounidenses (USD): \"))\n",
        "\n",
        "# Llamar a la función de conversión\n",
        "convertir_dolares(cantidad_dolares)\n"
      ],
      "metadata": {
        "colab": {
          "base_uri": "https://localhost:8080/"
        },
        "id": "GPRqHYOzNxde",
        "outputId": "03a0b2f0-2245-4d73-c4fe-5518f8a59ab0"
      },
      "execution_count": 1,
      "outputs": [
        {
          "output_type": "stream",
          "name": "stdout",
          "text": [
            "Ingrese la cantidad en dólares estadounidenses (USD): 50\n",
            "Tasa de cambio fija para $1 USD:\n",
            "1 USD = 19.5 MXN\n",
            "50.0 USD son 975.00 MXN\n",
            "1 USD = 0.85 EUR\n",
            "50.0 USD son 42.50 EUR\n",
            "1 USD = 0.75 GBP\n",
            "50.0 USD son 37.50 GBP\n",
            "1 USD = 6.45 CNY\n",
            "50.0 USD son 322.50 CNY\n",
            "1 USD = 75.0 RUB\n",
            "50.0 USD son 3750.00 RUB\n"
          ]
        }
      ]
    },
    {
      "cell_type": "markdown",
      "source": [
        "Ejercicio 2"
      ],
      "metadata": {
        "id": "FDnwX0GWUyNb"
      }
    },
    {
      "cell_type": "code",
      "source": [
        "def clasificar_edad(edad):\n",
        "    # Clasificación por rango de edad\n",
        "    if edad < 13:\n",
        "        return \"niño\"\n",
        "    elif 13 <= edad < 18:\n",
        "        return \"adolescente\"\n",
        "    elif 18 <= edad < 60:\n",
        "        return \"adulto\"\n",
        "    else:\n",
        "        return \"adulto mayor\"\n",
        "\n",
        "# Solicitar la edad del usuario\n",
        "edad_usuario = int(input(\"Ingrese su edad: \"))\n",
        "\n",
        "# Llamar a la función para clasificar la edad y mostrar el resultado\n",
        "categoria = clasificar_edad(edad_usuario)\n",
        "print(f\"Tienes {edad_usuario} años y eres considerado un {categoria}.\")\n"
      ],
      "metadata": {
        "colab": {
          "base_uri": "https://localhost:8080/"
        },
        "id": "g1rB8lBRU0C8",
        "outputId": "726eeef8-10ae-4678-d807-e122e0816cbc"
      },
      "execution_count": 2,
      "outputs": [
        {
          "output_type": "stream",
          "name": "stdout",
          "text": [
            "Ingrese su edad: 18\n",
            "Tienes 18 años y eres considerado un adulto.\n"
          ]
        }
      ]
    },
    {
      "cell_type": "markdown",
      "source": [
        "Ejercicio 3"
      ],
      "metadata": {
        "id": "EZv1TwgMVByf"
      }
    },
    {
      "cell_type": "code",
      "source": [
        "def calcular_precio_final(precio_original, porcentaje_descuento):\n",
        "    # Calcular el descuento en base al porcentaje ingresado\n",
        "    descuento = precio_original * (porcentaje_descuento / 100)\n",
        "    # Calcular el precio final restando el descuento al precio original\n",
        "    precio_final = precio_original - descuento\n",
        "    return precio_final\n",
        "\n",
        "# Solicitar al usuario el precio original y el porcentaje de descuento\n",
        "precio_original = float(input(\"Ingrese el precio original del producto: \"))\n",
        "porcentaje_descuento = float(input(\"Ingrese el porcentaje de descuento: \"))\n",
        "\n",
        "# Calcular el precio final llamando a la función\n",
        "precio_final = calcular_precio_final(precio_original, porcentaje_descuento)\n",
        "\n",
        "# Mostrar el resultado\n",
        "print(f\"El precio final después de aplicar el descuento es: ${precio_final:.2f}\")\n"
      ],
      "metadata": {
        "colab": {
          "base_uri": "https://localhost:8080/"
        },
        "id": "f-pBymrnWtDW",
        "outputId": "ff0cbda1-2c64-4e58-fcc2-dcf1bc1c90bc"
      },
      "execution_count": 3,
      "outputs": [
        {
          "output_type": "stream",
          "name": "stdout",
          "text": [
            "Ingrese el precio original del producto: 1500\n",
            "Ingrese el porcentaje de descuento: 15\n",
            "El precio final después de aplicar el descuento es: $1275.00\n"
          ]
        }
      ]
    },
    {
      "cell_type": "markdown",
      "source": [
        "Ejercicio 4"
      ],
      "metadata": {
        "id": "1bJgw1HfXjk3"
      }
    },
    {
      "cell_type": "code",
      "source": [
        "def determinar_mayor(num1, num2, num3):\n",
        "    # Comparar los tres números usando sentencias if y elif\n",
        "    if num1 >= num2 and num1 >= num3:\n",
        "        return num1\n",
        "    elif num2 >= num1 and num2 >= num3:\n",
        "        return num2\n",
        "    else:\n",
        "        return num3\n",
        "\n",
        "# Solicitar al usuario que ingrese tres números\n",
        "num1 = float(input(\"Ingrese el primer número: \"))\n",
        "num2 = float(input(\"Ingrese el segundo número: \"))\n",
        "num3 = float(input(\"Ingrese el tercer número: \"))\n",
        "\n",
        "# Determinar el mayor número llamando a la función\n",
        "mayor = determinar_mayor(num1, num2, num3)\n",
        "\n",
        "# Mostrar el resultado\n",
        "print(f\"El número mayor es: {mayor}\")\n"
      ],
      "metadata": {
        "colab": {
          "base_uri": "https://localhost:8080/"
        },
        "id": "QkuEB4oL3RLK",
        "outputId": "9cc813de-1685-4b2e-845c-0c500e67dae0"
      },
      "execution_count": 1,
      "outputs": [
        {
          "output_type": "stream",
          "name": "stdout",
          "text": [
            "Ingrese el primer número: 6\n",
            "Ingrese el segundo número: 6\n",
            "Ingrese el tercer número: 8\n",
            "El número mayor es: 8.0\n"
          ]
        }
      ]
    },
    {
      "cell_type": "markdown",
      "source": [
        "Ejercicio 5"
      ],
      "metadata": {
        "id": "6vO4zbU43W8Q"
      }
    },
    {
      "cell_type": "code",
      "source": [
        "import cmath  # Importamos cmath para manejar raíces cuadradas complejas\n",
        "\n",
        "# Función para resolver ecuaciones de segundo grado\n",
        "def resolver_ecuacion_cuadratica(a=1, b=0, c=0):\n",
        "    # Calcular el discriminante (b^2 - 4ac)\n",
        "    discriminante = b ** 2 - 4 * a * c\n",
        "\n",
        "    # Determinar la naturaleza de las raíces en función del discriminante\n",
        "    if discriminante > 0:\n",
        "        # Si el discriminante es positivo, hay dos soluciones reales\n",
        "        raiz1 = (-b + discriminante**0.5) / (2 * a)\n",
        "        raiz2 = (-b - discriminante**0.5) / (2 * a)\n",
        "        tipo_soluciones = \"dos soluciones reales\"\n",
        "    elif discriminante == 0:\n",
        "        # Si el discriminante es cero, hay una solución real doble\n",
        "        raiz1 = raiz2 = -b / (2 * a)\n",
        "        tipo_soluciones = \"una solución real doble\"\n",
        "    else:\n",
        "        # Si el discriminante es negativo, hay soluciones complejas\n",
        "        raiz1 = (-b + cmath.sqrt(discriminante)) / (2 * a)\n",
        "        raiz2 = (-b - cmath.sqrt(discriminante)) / (2 * a)\n",
        "        tipo_soluciones = \"dos soluciones complejas\"\n",
        "\n",
        "    return raiz1, raiz2, tipo_soluciones, discriminante\n",
        "\n",
        "# Solicitar al usuario que ingrese los valores de a, b y c\n",
        "try:\n",
        "    a = float(input(\"Ingrese el valor de a (por defecto 1): \") or 1)\n",
        "    b = float(input(\"Ingrese el valor de b (por defecto 0): \") or 0)\n",
        "    c = float(input(\"Ingrese el valor de c (por defecto 0): \") or 0)\n",
        "except ValueError:\n",
        "    print(\"Entrada no válida. Usando valores predeterminados: a=1, b=0, c=0\")\n",
        "    a, b, c = 1, 0, 0\n",
        "\n",
        "# Llamar a la función para resolver la ecuación\n",
        "raiz1, raiz2, tipo_soluciones, discriminante = resolver_ecuacion_cuadratica(a, b, c)\n",
        "\n",
        "# Mostrar el resultado\n",
        "print(f\"El discriminante es: {discriminante}\")\n",
        "print(f\"La ecuación tiene {tipo_soluciones}.\")\n",
        "print(f\"Las soluciones son: {raiz1} y {raiz2}\")\n"
      ],
      "metadata": {
        "colab": {
          "base_uri": "https://localhost:8080/"
        },
        "id": "aBEZS_xb3YnE",
        "outputId": "3bce4d79-1c5a-41a8-ad6e-d2d9c64a152d"
      },
      "execution_count": 2,
      "outputs": [
        {
          "output_type": "stream",
          "name": "stdout",
          "text": [
            "Ingrese el valor de a (por defecto 1): 5\n",
            "Ingrese el valor de b (por defecto 0): -9\n",
            "Ingrese el valor de c (por defecto 0): 20\n",
            "El discriminante es: -319.0\n",
            "La ecuación tiene dos soluciones complejas.\n",
            "Las soluciones son: (0.9+1.786057109949175j) y (0.9-1.786057109949175j)\n"
          ]
        }
      ]
    },
    {
      "cell_type": "markdown",
      "source": [
        "Ejercicio 6"
      ],
      "metadata": {
        "id": "s-H6ZJWKRCGm"
      }
    },
    {
      "cell_type": "code",
      "source": [
        "def separar_positivos_y_negativos(numeros):\n",
        "    positivos = []  # Lista para almacenar números positivos\n",
        "    negativos = []  # Lista para almacenar números negativos\n",
        "\n",
        "    # Recorrer la lista y clasificar cada número\n",
        "    for numero in numeros:\n",
        "        if numero >= 0:\n",
        "            positivos.append(numero)  # Añadir a la lista de positivos\n",
        "        else:\n",
        "            negativos.append(numero)  # Añadir a la lista de negativos\n",
        "\n",
        "    return positivos, negativos\n",
        "\n",
        "# Ejemplo de uso: Solicitar una lista de números al usuario\n",
        "numeros = list(map(float, input(\"Ingrese una lista de números separados por espacios: \").split()))\n",
        "\n",
        "# Llamar a la función y obtener las listas de positivos y negativos\n",
        "positivos, negativos = separar_positivos_y_negativos(numeros)\n",
        "\n",
        "# Mostrar los resultados\n",
        "print(f\"Números positivos: {positivos}\")\n",
        "print(f\"Números negativos: {negativos}\")\n"
      ],
      "metadata": {
        "colab": {
          "base_uri": "https://localhost:8080/"
        },
        "id": "B_-pqwIhREh8",
        "outputId": "5a5bd947-5d0d-4eb8-c979-516dd0a70865"
      },
      "execution_count": 1,
      "outputs": [
        {
          "output_type": "stream",
          "name": "stdout",
          "text": [
            "Ingrese una lista de números separados por espacios: 4 -5 8 50 -45 -30 9\n",
            "Números positivos: [4.0, 8.0, 50.0, 9.0]\n",
            "Números negativos: [-5.0, -45.0, -30.0]\n"
          ]
        }
      ]
    },
    {
      "cell_type": "markdown",
      "source": [
        "Ejercicio 7"
      ],
      "metadata": {
        "id": "7tqqzk_HTcC3"
      }
    },
    {
      "cell_type": "code",
      "source": [
        "def separar_por_tipo(datos):\n",
        "    enteros = []  # Lista para almacenar números enteros\n",
        "    cadenas = []  # Lista para almacenar cadenas de texto\n",
        "    booleanos = []  # Lista para almacenar valores booleanos\n",
        "    flotantes = []  # Lista para almacenar números flotantes\n",
        "\n",
        "    # Recorrer la lista y clasificar cada dato por tipo\n",
        "    for dato in datos:\n",
        "        if isinstance(dato, int) and not isinstance(dato, bool):\n",
        "            enteros.append(dato)  # Añadir a la lista de enteros\n",
        "        elif isinstance(dato, str):\n",
        "            cadenas.append(dato)  # Añadir a la lista de cadenas\n",
        "        elif isinstance(dato, bool):\n",
        "            booleanos.append(dato)  # Añadir a la lista de booleanos\n",
        "        elif isinstance(dato, float):\n",
        "            flotantes.append(dato)  # Añadir a la lista de flotantes\n",
        "\n",
        "    return enteros, cadenas, booleanos, flotantes\n",
        "\n",
        "# Lista de datos proporcionada\n",
        "datos = [5, 2.4, \"hola\", 7, 10, 3.14, True, False, \"Hi\", 0, 0.265]\n",
        "\n",
        "# Llamar a la función para separar los datos por tipo\n",
        "enteros, cadenas, booleanos, flotantes = separar_por_tipo(datos)\n",
        "\n",
        "# Mostrar los resultados\n",
        "print(f\"Números enteros: {enteros}\")\n",
        "print(f\"Cadenas de texto: {cadenas}\")\n",
        "print(f\"Valores booleanos: {booleanos}\")\n",
        "print(f\"Números flotantes: {flotantes}\")\n"
      ],
      "metadata": {
        "colab": {
          "base_uri": "https://localhost:8080/"
        },
        "id": "iUCLZn6HTbor",
        "outputId": "2b964fd6-f44e-4209-a7da-cc4a5070bdc4"
      },
      "execution_count": 6,
      "outputs": [
        {
          "output_type": "stream",
          "name": "stdout",
          "text": [
            "Números enteros: [5, 7, 10, 0]\n",
            "Cadenas de texto: ['hola', 'Hi']\n",
            "Valores booleanos: [True, False]\n",
            "Números flotantes: [2.4, 3.14, 0.265]\n"
          ]
        }
      ]
    },
    {
      "cell_type": "markdown",
      "source": [
        "Ejercicio 8"
      ],
      "metadata": {
        "id": "H6uSeKfAWs25"
      }
    },
    {
      "cell_type": "code",
      "source": [
        "def imprimir_piramide(niveles):\n",
        "    for i in range(1, niveles + 1):\n",
        "        # Espacios a la izquierda para centrar la pirámide\n",
        "        print(\" \" * (niveles - i), end=\"\")\n",
        "        # Asteriscos en cada nivel\n",
        "        print(\"*\" * (2 * i - 1))\n",
        "\n",
        "# Solicitar al usuario el número de niveles\n",
        "niveles = int(input(\"Ingrese el número de niveles de la pirámide: \"))\n",
        "\n",
        "# Llamar a la función para imprimir la pirámide\n",
        "imprimir_piramide(niveles)\n"
      ],
      "metadata": {
        "colab": {
          "base_uri": "https://localhost:8080/"
        },
        "id": "pHG8gsoDWsYL",
        "outputId": "b0e25425-6aab-4dda-e161-f14d3c247592"
      },
      "execution_count": 7,
      "outputs": [
        {
          "output_type": "stream",
          "name": "stdout",
          "text": [
            "Ingrese el número de niveles de la pirámide: 8\n",
            "       *\n",
            "      ***\n",
            "     *****\n",
            "    *******\n",
            "   *********\n",
            "  ***********\n",
            " *************\n",
            "***************\n"
          ]
        }
      ]
    },
    {
      "cell_type": "markdown",
      "source": [
        "Ejercicio 9"
      ],
      "metadata": {
        "id": "HAzrBBBRXCcj"
      }
    },
    {
      "cell_type": "code",
      "source": [
        "def calcular_factorial(n):\n",
        "    factorial = 1\n",
        "    for i in range(1, n + 1):\n",
        "        factorial *= i\n",
        "    return factorial\n",
        "\n",
        "# Solicitar y validar el número ingresado por el usuario\n",
        "def solicitar_numero_natural():\n",
        "    while True:\n",
        "        try:\n",
        "            # Pedir al usuario un número\n",
        "            numero = int(input(\"Ingrese un número natural (mayor o igual a 0): \"))\n",
        "            if numero >= 0:\n",
        "                return numero  # Retornar el número si es válido\n",
        "            else:\n",
        "                print(\"Por favor, ingrese un número natural (mayor o igual a 0).\")\n",
        "        except ValueError:\n",
        "            print(\"Entrada no válida. Por favor, ingrese un número entero.\")\n",
        "\n",
        "# Programa principal\n",
        "numero = solicitar_numero_natural()\n",
        "resultado = calcular_factorial(numero)\n",
        "\n",
        "# Mostrar el resultado\n",
        "print(f\"El factorial de {numero} es: {resultado}\")\n"
      ],
      "metadata": {
        "colab": {
          "base_uri": "https://localhost:8080/"
        },
        "id": "1Gz3EboeXE19",
        "outputId": "a1b0c84f-4cec-42dc-baa0-819b3368a2e7"
      },
      "execution_count": 8,
      "outputs": [
        {
          "output_type": "stream",
          "name": "stdout",
          "text": [
            "Ingrese un número natural (mayor o igual a 0): -5\n",
            "Por favor, ingrese un número natural (mayor o igual a 0).\n",
            "Ingrese un número natural (mayor o igual a 0): 5\n",
            "El factorial de 5 es: 120\n"
          ]
        }
      ]
    },
    {
      "cell_type": "markdown",
      "source": [
        "Ejercicio 10"
      ],
      "metadata": {
        "id": "6amTRclVXd--"
      }
    },
    {
      "cell_type": "code",
      "source": [
        "import math  # Importar la biblioteca math para usar la función sqrt\n",
        "\n",
        "# Función para calcular la distancia entre dos puntos\n",
        "def calcular_distancia(x1, y1, x2, y2):\n",
        "    # Fórmula de distancia: √((x2 - x1)^2 + (y2 - y1)^2)\n",
        "    distancia = math.sqrt((x2 - x1)**2 + (y2 - y1)**2)\n",
        "    return distancia\n",
        "\n",
        "# Solicitar al usuario las coordenadas de los dos puntos\n",
        "x1 = float(input(\"Ingrese la coordenada x1 del primer punto: \"))\n",
        "y1 = float(input(\"Ingrese la coordenada y1 del primer punto: \"))\n",
        "x2 = float(input(\"Ingrese la coordenada x2 del segundo punto: \"))\n",
        "y2 = float(input(\"Ingrese la coordenada y2 del segundo punto: \"))\n",
        "\n",
        "# Calcular y mostrar la distancia\n",
        "distancia = calcular_distancia(x1, y1, x2, y2)\n",
        "print(f\"La distancia entre los puntos ({x1}, {y1}) y ({x2}, {y2}) es: {distancia:.2f}\")\n"
      ],
      "metadata": {
        "colab": {
          "base_uri": "https://localhost:8080/"
        },
        "id": "A4gk6JgvXhBy",
        "outputId": "088227d3-5b62-4eaf-e36a-c07dec6a504f"
      },
      "execution_count": 9,
      "outputs": [
        {
          "output_type": "stream",
          "name": "stdout",
          "text": [
            "Ingrese la coordenada x1 del primer punto: 9\n",
            "Ingrese la coordenada y1 del primer punto: 7\n",
            "Ingrese la coordenada x2 del segundo punto: 2\n",
            "Ingrese la coordenada y2 del segundo punto: 18\n",
            "La distancia entre los puntos (9.0, 7.0) y (2.0, 18.0) es: 13.04\n"
          ]
        }
      ]
    },
    {
      "cell_type": "markdown",
      "source": [
        "Ejercicio 11"
      ],
      "metadata": {
        "id": "IZYr6I7pdOWU"
      }
    },
    {
      "cell_type": "code",
      "source": [
        "def relacion_rectas(m1, b1, m2, b2):\n",
        "    # Si las pendientes son iguales\n",
        "    if m1 == m2:\n",
        "        if b1 == b2:\n",
        "            return \"Las rectas son coincidentes.\"\n",
        "        else:\n",
        "            return \"Las rectas son paralelas.\"\n",
        "    else:\n",
        "        return \"Las rectas se intersectan.\"\n",
        "\n",
        "# Solicitar al usuario los valores de las pendientes y las ordenadas al origen\n",
        "m1 = float(input(\"Ingrese la pendiente m1 de la primera recta: \"))\n",
        "b1 = float(input(\"Ingrese la ordenada al origen b1 de la primera recta: \"))\n",
        "m2 = float(input(\"Ingrese la pendiente m2 de la segunda recta: \"))\n",
        "b2 = float(input(\"Ingrese la ordenada al origen b2 de la segunda recta: \"))\n",
        "\n",
        "# Determinar y mostrar la relación entre las dos rectas\n",
        "resultado = relacion_rectas(m1, b1, m2, b2)\n",
        "print(resultado)"
      ],
      "metadata": {
        "colab": {
          "base_uri": "https://localhost:8080/"
        },
        "id": "bcgboOvsdQuK",
        "outputId": "8e48bae3-d89b-4124-bbaa-5016c11aee11"
      },
      "execution_count": 10,
      "outputs": [
        {
          "output_type": "stream",
          "name": "stdout",
          "text": [
            "Ingrese la pendiente m1 de la primera recta: 10\n",
            "Ingrese la ordenada al origen b1 de la primera recta: 5\n",
            "Ingrese la pendiente m2 de la segunda recta: 20\n",
            "Ingrese la ordenada al origen b2 de la segunda recta: 0\n",
            "Las rectas se intersectan.\n"
          ]
        }
      ]
    },
    {
      "cell_type": "markdown",
      "source": [
        "Ejercicio 12"
      ],
      "metadata": {
        "id": "oI8r62x0dtin"
      }
    },
    {
      "cell_type": "code",
      "source": [
        "import random\n",
        "\n",
        "# Función para simular el juego de dados entre Iván y Miguel\n",
        "def jugar_dados():\n",
        "    while True:\n",
        "        # Generar un número aleatorio entre 1 y 6 para el lanzamiento del dado\n",
        "        resultado = random.randint(1, 6)\n",
        "        print(f\"\\nResultado del lanzamiento: {resultado}\")\n",
        "\n",
        "        # Aplicar las reglas del juego según el resultado del dado\n",
        "        if resultado == 1:\n",
        "            print(\"Salió 1, vuelven a lanzar.\")\n",
        "            continue  # Volver a lanzar\n",
        "        elif resultado == 6:\n",
        "            print(\"Salió 6, quedan empatados.\")\n",
        "            break  # Termina el juego en empate\n",
        "        elif resultado == 2 or resultado == 3:\n",
        "            print(\"Iván gana.\")\n",
        "            break  # Iván gana, termina el juego\n",
        "        elif resultado == 4 or resultado == 5:\n",
        "            print(\"Miguel gana.\")\n",
        "            break  # Miguel gana, termina el juego\n",
        "\n",
        "# Iniciar el juego\n",
        "jugar_dados()"
      ],
      "metadata": {
        "colab": {
          "base_uri": "https://localhost:8080/"
        },
        "id": "wjIVVRWxd07T",
        "outputId": "250846dc-feb7-46e9-f1f7-3946e3a94fea"
      },
      "execution_count": 11,
      "outputs": [
        {
          "output_type": "stream",
          "name": "stdout",
          "text": [
            "\n",
            "Resultado del lanzamiento: 4\n",
            "Miguel gana.\n"
          ]
        }
      ]
    }
  ]
}