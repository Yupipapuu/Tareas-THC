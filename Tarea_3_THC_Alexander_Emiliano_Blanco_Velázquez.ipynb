{
  "nbformat": 4,
  "nbformat_minor": 0,
  "metadata": {
    "colab": {
      "provenance": [],
      "authorship_tag": "ABX9TyOqqqt6o31gXIMnajuRIeru",
      "include_colab_link": true
    },
    "kernelspec": {
      "name": "python3",
      "display_name": "Python 3"
    },
    "language_info": {
      "name": "python"
    }
  },
  "cells": [
    {
      "cell_type": "markdown",
      "metadata": {
        "id": "view-in-github",
        "colab_type": "text"
      },
      "source": [
        "<a href=\"https://colab.research.google.com/github/Yupipapuu/Tareas-THC/blob/main/Tarea_3_THC_Alexander_Emiliano_Blanco_Vel%C3%A1zquez.ipynb\" target=\"_parent\"><img src=\"https://colab.research.google.com/assets/colab-badge.svg\" alt=\"Open In Colab\"/></a>"
      ]
    },
    {
      "cell_type": "markdown",
      "source": [
        "\n",
        "\n",
        "> Tarea 3\n",
        "\n"
      ],
      "metadata": {
        "id": "ka_dgD5K05Rh"
      }
    },
    {
      "cell_type": "markdown",
      "source": [
        "VARIABLES"
      ],
      "metadata": {
        "id": "B7OFpSHd2DHV"
      }
    },
    {
      "cell_type": "markdown",
      "source": [
        "Ejercicio 1"
      ],
      "metadata": {
        "id": "0PDq9wn71AdW"
      }
    },
    {
      "cell_type": "code",
      "execution_count": 2,
      "metadata": {
        "colab": {
          "base_uri": "https://localhost:8080/"
        },
        "id": "b5cX-ofSuXvN",
        "outputId": "73d30925-5c9a-460d-ab1d-84b3d42720a9"
      },
      "outputs": [
        {
          "output_type": "stream",
          "name": "stdout",
          "text": [
            "Ingrese primer número: 80\n",
            "Ingrese segundo número: 60\n",
            "Suma: 140.0\n",
            "Resta: 20.0\n",
            "Multiplicación: 4800.0\n",
            "División: 1.3333333333333333\n"
          ]
        }
      ],
      "source": [
        "def calculadora():\n",
        "    # Solicitar al usuario que ingrese dos números\n",
        "    num1 = float(input(\"Ingrese primer número: \"))\n",
        "    num2 = float(input(\"Ingrese segundo número: \"))\n",
        "\n",
        "    # Realizar operaciones básicas\n",
        "    suma = num1+num2\n",
        "    resta = num1-num2\n",
        "    multiplicacion=num1*num2\n",
        "    division = num1 / num2 if num2 != 0 else \"Indefinido (división por cero)\"\n",
        "\n",
        "    # Mostrar los resultados\n",
        "    print(f\"Suma: {suma}\")\n",
        "    print(f\"Resta: {resta}\")\n",
        "    print(f\"Multiplicación: {multiplicacion}\")\n",
        "    print(f\"División: {division}\")\n",
        "\n",
        "calculadora()\n"
      ]
    },
    {
      "cell_type": "markdown",
      "source": [
        "Ejercicio 2"
      ],
      "metadata": {
        "id": "yPD1Ia-j1h2i"
      }
    },
    {
      "cell_type": "code",
      "source": [
        "def convertir_temperatura():\n",
        "    #Solicitar la temperatura en grados Celsius\n",
        "    celsius = float(input(\"Ingrese la temperatura en grados Celsius: \"))\n",
        "\n",
        "    #Fórmula para convertir a Fahrenheit\n",
        "    fahrenheit = (celsius*9/5)+32\n",
        "\n",
        "    #Mostrar resultado\n",
        "    print(f\"{celsius}°C equivale a {fahrenheit}°F\")\n",
        "\n",
        "convertir_temperatura()\n"
      ],
      "metadata": {
        "colab": {
          "base_uri": "https://localhost:8080/"
        },
        "id": "-BfA510y1hHL",
        "outputId": "ef99c850-fdbb-4e62-d142-7522f634bc71"
      },
      "execution_count": 3,
      "outputs": [
        {
          "output_type": "stream",
          "name": "stdout",
          "text": [
            "Ingrese la temperatura en grados Celsius: 10\n",
            "10.0°C equivale a 50.0°F\n"
          ]
        }
      ]
    },
    {
      "cell_type": "markdown",
      "source": [
        "Ejercicio 4"
      ],
      "metadata": {
        "id": "gTt4X5QQ19ba"
      }
    },
    {
      "cell_type": "code",
      "source": [
        "def contar_palabras():\n",
        "    # Solicitar al usuario que ingrese una cadena de texto\n",
        "    texto = input(\"Ingrese texto: \")\n",
        "\n",
        "    # Contar las palabras separando por espacios\n",
        "    palabras = texto.split()\n",
        "    contador = len(palabras)\n",
        "\n",
        "    # Mostrar el número de palabras\n",
        "    print(f\"El texto contiene {contador} palabras.\")\n",
        "\n",
        "contar_palabras()\n"
      ],
      "metadata": {
        "colab": {
          "base_uri": "https://localhost:8080/"
        },
        "id": "ahkUppmu18rx",
        "outputId": "afa021c4-d066-4d6e-ee7d-3ae79b2a393a"
      },
      "execution_count": 4,
      "outputs": [
        {
          "output_type": "stream",
          "name": "stdout",
          "text": [
            "Ingrese texto: El taller de herramientas computacionales es la mejor clase\n",
            "El texto contiene 9 palabras.\n"
          ]
        }
      ]
    },
    {
      "cell_type": "markdown",
      "source": [
        "Ejercicio 6"
      ],
      "metadata": {
        "id": "zrm99bb52YHJ"
      }
    },
    {
      "cell_type": "code",
      "source": [
        "def calcular_promedio():\n",
        "    # Solicitar al usuario una lista de números separados por comas\n",
        "    numeros = input(\"Ingrese los números separados por comas: \")\n",
        "\n",
        "    # Convertir la cadena en una lista de números\n",
        "    lista_numeros = [float(num) for num in numeros.split(\",\")]\n",
        "\n",
        "    # Calcular el promedio\n",
        "    promedio = sum(lista_numeros) / len(lista_numeros)\n",
        "\n",
        "    # Mostrar el resultado\n",
        "    print(f\"El promedio de es: {promedio}\")\n",
        "\n",
        "calcular_promedio()\n"
      ],
      "metadata": {
        "colab": {
          "base_uri": "https://localhost:8080/"
        },
        "id": "SespqXmx2aF0",
        "outputId": "f8419d06-dc97-4709-8ced-4f942e0fd0c2"
      },
      "execution_count": 6,
      "outputs": [
        {
          "output_type": "stream",
          "name": "stdout",
          "text": [
            "Ingrese los números separados por comas: 9,8,7,6,5,10,9\n",
            "El promedio de es: 7.714285714285714\n"
          ]
        }
      ]
    },
    {
      "cell_type": "markdown",
      "source": [
        "Ejercicio 10"
      ],
      "metadata": {
        "id": "dSDOwwew2vE5"
      }
    },
    {
      "cell_type": "code",
      "source": [
        "def registro_estudiantes():\n",
        "    estudiantes = []\n",
        "    calificaciones = []\n",
        "\n",
        "    while True:\n",
        "        # Solicitar el nombre del estudiante\n",
        "        nombre = input(\"Ingrese el nombre del estudiante (o 'salir' para terminar): \")\n",
        "\n",
        "        if nombre.lower() == 'salir':\n",
        "            break\n",
        "\n",
        "        # Solicitar la calificación del estudiante\n",
        "        calificacion = float(input(f\"Ingrese la calificación de {nombre}: \"))\n",
        "\n",
        "        # Almacenar en las listas\n",
        "        estudiantes.append(nombre)\n",
        "        calificaciones.append(calificacion)\n",
        "\n",
        "    # Calcular el promedio de las calificaciones\n",
        "    if calificaciones:\n",
        "        promedio = sum(calificaciones) / len(calificaciones)\n",
        "        print(\"\\nRegistro de estudiantes:\")\n",
        "        for i in range(len(estudiantes)):\n",
        "            print(f\"{estudiantes[i]}: {calificaciones[i]}\")\n",
        "        print(f\"\\nEl promedio de calificaciones es: {promedio}\")\n",
        "    else:\n",
        "        print(\"No se ingresaron estudiantes.\")\n",
        "\n",
        "registro_estudiantes()\n"
      ],
      "metadata": {
        "colab": {
          "base_uri": "https://localhost:8080/"
        },
        "id": "SAOfA1UM2xYl",
        "outputId": "66be2053-a916-468c-b8d2-0e691e118671"
      },
      "execution_count": 10,
      "outputs": [
        {
          "output_type": "stream",
          "name": "stdout",
          "text": [
            "Ingrese el nombre del estudiante (o 'salir' para terminar): Alexander\n",
            "Ingrese la calificación de Alexander: 9\n",
            "Ingrese el nombre del estudiante (o 'salir' para terminar): Abi\n",
            "Ingrese la calificación de Abi: 6\n",
            "Ingrese el nombre del estudiante (o 'salir' para terminar): salir\n",
            "\n",
            "Registro de estudiantes:\n",
            "Alexander: 9.0\n",
            "Abi: 6.0\n",
            "\n",
            "El promedio de calificaciones es: 7.5\n"
          ]
        }
      ]
    },
    {
      "cell_type": "markdown",
      "source": [
        "SINTAXIS/COMENTARIOS/TIPOS DE DATOS\n"
      ],
      "metadata": {
        "id": "c8BWkT2S3dQF"
      }
    },
    {
      "cell_type": "markdown",
      "source": [
        "Ejercicio 2"
      ],
      "metadata": {
        "id": "pE3Ficqn3raW"
      }
    },
    {
      "cell_type": "code",
      "source": [
        "# Programa para calcular el área de un rectángulo\n",
        "\n",
        "def calcular_area_rectangulo():\n",
        "    # Solicitar al usuario el largo del rectángulo\n",
        "    largo = float(input(\"Ingrese el largo del rectángulo: \"))\n",
        "\n",
        "    # Solicitar al usuario el ancho del rectángulo\n",
        "    ancho = float(input(\"Ingrese el ancho del rectángulo: \"))\n",
        "\n",
        "    # Calcular el área multiplicando el largo por el ancho\n",
        "    area = largo*ancho\n",
        "\n",
        "    # Mostrar el resultado del cálculo\n",
        "    print(f\"El área del rectángulo es: {area}\")\n",
        "\n",
        "# Llamada a la función para ejecutar el cálculo\n",
        "calcular_area_rectangulo()\n"
      ],
      "metadata": {
        "colab": {
          "base_uri": "https://localhost:8080/"
        },
        "id": "YqawW4VW3txe",
        "outputId": "8f8fc6a9-71c3-4d22-ef52-a8f5194dcfa4"
      },
      "execution_count": 11,
      "outputs": [
        {
          "output_type": "stream",
          "name": "stdout",
          "text": [
            "Ingrese el largo del rectángulo: 6\n",
            "Ingrese el ancho del rectángulo: 8\n",
            "El área del rectángulo es: 48.0\n"
          ]
        }
      ]
    },
    {
      "cell_type": "markdown",
      "source": [
        "Ejercicio 3"
      ],
      "metadata": {
        "id": "hDjdkcGe34M9"
      }
    },
    {
      "cell_type": "code",
      "source": [
        "# Programa para determinar si un número es primo\n",
        "\n",
        "def es_primo(numero):\n",
        "    # Un número primo es divisible solo por 1 y por sí mismo.\n",
        "    # Cualquier número menor o igual a 1 no es primo.\n",
        "    if numero <= 1:\n",
        "        return False\n",
        "\n",
        "    # Verificamos si el número es divisible por algún valor entre 2 y la raíz cuadrada del número.\n",
        "    for i in range(2, int(numero ** 0.5) + 1):\n",
        "        # Si encontramos un divisor, el número no es primo.\n",
        "        if numero % i == 0:\n",
        "            return False\n",
        "\n",
        "    # Si no encontramos ningún divisor, el número es primo.\n",
        "    return True\n",
        "\n",
        "# Solicitar un número al usuario\n",
        "numero = int(input(\"Ingrese un número: \"))\n",
        "\n",
        "# Determinar si el número es primo llamando a la función\n",
        "if es_primo(numero):\n",
        "    print(f\"El número {numero} es primo.\")\n",
        "else:\n",
        "    print(f\"El número {numero} no es primo.\")\n",
        "\n",
        "# Fin del programa"
      ],
      "metadata": {
        "colab": {
          "base_uri": "https://localhost:8080/"
        },
        "id": "1wRaxigZ3981",
        "outputId": "4eddc8dc-07ac-4d0f-cdb9-b619d2d59191"
      },
      "execution_count": 12,
      "outputs": [
        {
          "output_type": "stream",
          "name": "stdout",
          "text": [
            "Ingrese un número: 67\n",
            "El número 67 es primo.\n"
          ]
        }
      ]
    },
    {
      "cell_type": "markdown",
      "source": [
        "Ejercicio 6"
      ],
      "metadata": {
        "id": "cRRT7Ix34oW1"
      }
    },
    {
      "cell_type": "code",
      "source": [
        "# Programa: Conversor de Moneda\n",
        "# Descripción: Este programa permite que los usuarios puedan convertir una cantidad de dinero de una moneda a otra.\n",
        "# Uso:\n",
        "# 1. El usuario debe ingresar la cantidad de dinero que desea convertir.\n",
        "# 2. Luego seleccionará la moneda de origen y la moneda de destino.\n",
        "# 3. El programa utiliza tasas de conversión predefinidas para realizar la conversión.\n",
        "\n",
        "# Definir las tasas de conversión (valores arbitrarios como ejemplo)\n",
        "tasas_conversion = {\n",
        "    'USD': 1.0,      # Dólar estadounidense\n",
        "    'EUR': 0.85,     # Euro\n",
        "    'JPY': 110.0,    # Yen japonés\n",
        "    'GBP': 0.75      # Libra esterlina\n",
        "}\n",
        "\n",
        "def convertir_moneda(cantidad, moneda_origen, moneda_destino):\n",
        "    # Convertir la cantidad de la moneda de origen a dólares\n",
        "    cantidad_en_usd = cantidad / tasas_conversion[moneda_origen]\n",
        "\n",
        "    # Convertir de dólares a la moneda de destino\n",
        "    cantidad_convertida = cantidad_en_usd * tasas_conversion[moneda_destino]\n",
        "\n",
        "    return cantidad_convertida\n",
        "\n",
        "# Solicitar al usuario la cantidad de dinero\n",
        "cantidad = float(input(\"Ingrese la cantidad de dinero que desea convertir: \"))\n",
        "\n",
        "# Solicitar la moneda de origen\n",
        "moneda_origen = input(\"Ingrese la moneda de origen (USD, EUR, JPY, GBP): \").upper()\n",
        "\n",
        "# Solicitar la moneda de destino\n",
        "moneda_destino = input(\"Ingrese la moneda de destino (USD, EUR, JPY, GBP): \").upper()\n",
        "\n",
        "# Verificar que ambas monedas sean válidas\n",
        "if moneda_origen in tasas_conversion and moneda_destino in tasas_conversion:\n",
        "    # Llamar a la función de conversión\n",
        "    resultado = convertir_moneda(cantidad, moneda_origen, moneda_destino)\n",
        "\n",
        "    # Mostrar el resultado\n",
        "    print(f\"{cantidad} {moneda_origen} equivalen a {resultado:.2f} {moneda_destino}\")\n",
        "else:\n",
        "    print(\"Moneda no válida. Por favor, use USD, EUR, JPY, o GBP.\")\n"
      ],
      "metadata": {
        "colab": {
          "base_uri": "https://localhost:8080/"
        },
        "id": "OOiXaWjX4wJa",
        "outputId": "fdedae5b-2cb4-4d3c-965d-27706d39431f"
      },
      "execution_count": 13,
      "outputs": [
        {
          "output_type": "stream",
          "name": "stdout",
          "text": [
            "Ingrese la cantidad de dinero que desea convertir: 600\n",
            "Ingrese la moneda de origen (USD, EUR, JPY, GBP): USD\n",
            "Ingrese la moneda de destino (USD, EUR, JPY, GBP): JPY\n",
            "600.0 USD equivalen a 66000.00 JPY\n"
          ]
        }
      ]
    }
  ]
}