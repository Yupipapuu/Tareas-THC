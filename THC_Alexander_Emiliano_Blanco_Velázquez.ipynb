{
  "nbformat": 4,
  "nbformat_minor": 0,
  "metadata": {
    "colab": {
      "provenance": []
    },
    "kernelspec": {
      "name": "python3",
      "display_name": "Python 3"
    },
    "language_info": {
      "name": "python"
    }
  },
  "cells": [
    {
      "cell_type": "code",
      "execution_count": null,
      "metadata": {
        "id": "vQVYeFI7XNmI"
      },
      "outputs": [],
      "source": [
        "def mi_funcion(*NC):Nombre Completo\n",
        "  #NC es la abreviación de\n",
        "  print(\"Hola estoy en una función\")"
      ]
    },
    {
      "cell_type": "code",
      "source": [
        "def mi_funcion(*NC):\n",
        "  #NC es la abreviación de Nombre Comleto\n",
        "  print(\"Hola me llamo \"+NC[0]+NC[1]+NC[2]+NC[3])"
      ],
      "metadata": {
        "id": "_1wCJ0-AYbXd"
      },
      "execution_count": null,
      "outputs": []
    },
    {
      "cell_type": "code",
      "source": [
        "mi_funcion(\"Alexander \",\"Emiliano \",\"Blanco \",\"Velázquez\")"
      ],
      "metadata": {
        "colab": {
          "base_uri": "https://localhost:8080/"
        },
        "id": "7AguCVXnaSgx",
        "outputId": "a65125b2-00dc-4173-9b08-47dbb5dc98bd"
      },
      "execution_count": null,
      "outputs": [
        {
          "output_type": "stream",
          "name": "stdout",
          "text": [
            "Hola me llamo Alexander Emiliano Blanco Velázquez\n"
          ]
        }
      ]
    },
    {
      "cell_type": "code",
      "source": [
        "def mi_funcion(NC):\n",
        "  #NC es la abreviación de Nombre Comleto\n",
        "  print(\"Hola me llamo \"+NC[0]+NC[1]+NC[2]+NC[3])\n",
        "\n",
        "  NoC=[\"Alexander \",\"Emiliano \",\"Blanco \",\"Velázquez\"]\n",
        "  print(mi_funcion(NoC))"
      ],
      "metadata": {
        "id": "vUw4u4ovawQf"
      },
      "execution_count": null,
      "outputs": []
    },
    {
      "cell_type": "markdown",
      "source": [
        "¿Cuál es el error? <="
      ],
      "metadata": {
        "id": "zEB5wNdWcn_j"
      }
    },
    {
      "cell_type": "code",
      "source": [
        "def mi_funcion(nombre=\"I\",apellido=\"C\"):\n",
        "  print(\"Hola me llamo \"+nombre+apellido)\n",
        "\n",
        "nombre=\"J \"\n",
        "apellido=\"S\"\n",
        "mi_funcion(nombre,apellido)\n",
        "print(\"Hola me llamo \"+nombre+apellido)"
      ],
      "metadata": {
        "colab": {
          "base_uri": "https://localhost:8080/"
        },
        "id": "G62DUMeUb7dQ",
        "outputId": "54463970-8d59-469f-8f88-8c18d0c3b7fb"
      },
      "execution_count": null,
      "outputs": [
        {
          "output_type": "stream",
          "name": "stdout",
          "text": [
            "Hola me llamo J S\n",
            "Hola me llamo J S\n"
          ]
        }
      ]
    },
    {
      "cell_type": "code",
      "source": [
        "def mi_funcion(apellido,nombre):\n",
        "  print(\"Hola me llamo \"+nombre+apellido)\n",
        "\n",
        "mi_funcion(nombre=\" J \",apellido=\" S \")\n",
        "mi_funcion(\" J \",\" S \")"
      ],
      "metadata": {
        "colab": {
          "base_uri": "https://localhost:8080/"
        },
        "id": "kZP4M_xUeI3E",
        "outputId": "59323a05-c6ac-41a1-e621-3e1200740b4d"
      },
      "execution_count": null,
      "outputs": [
        {
          "output_type": "stream",
          "name": "stdout",
          "text": [
            "Hola me llamo  J  S \n",
            "Hola me llamo  S  J \n"
          ]
        }
      ]
    },
    {
      "cell_type": "code",
      "source": [
        "def mi_funcion(apellido,nombre):\n",
        "  NombreCompleto=nombre+apellido\n",
        "  NombreCompleto1=nombre+apellido+\"2\"\n",
        "  return NombreCompleto,NombreCompleto1\n",
        "\n",
        "NC,NC1=mi_funcion(nombre=\" J \",apellido= \" S \")\n",
        "print(\"Hola me llamo \"+NC)"
      ],
      "metadata": {
        "colab": {
          "base_uri": "https://localhost:8080/"
        },
        "id": "ea1p6CBffUlL",
        "outputId": "c16f3ee2-71c9-4a53-c81c-9c22c94ef555"
      },
      "execution_count": null,
      "outputs": [
        {
          "output_type": "stream",
          "name": "stdout",
          "text": [
            "Hola me llamo  J  S \n"
          ]
        }
      ]
    },
    {
      "cell_type": "code",
      "source": [
        "def presentar_persona(nombre=\"None\", apellido=\"Desconocido\", edad=0):\n",
        "    # Validar que la edad sea un entero\n",
        "    try:\n",
        "        edad = int(edad)\n",
        "    except ValueError:\n",
        "        return \"Error: La edad debe ser un número entero.\"\n",
        "\n",
        "    # Validar que el nombre no tenga más de 5 letras\n",
        "    if len(nombre) > 5:\n",
        "        return \"Error: El nombre no debe tener más de 5 letras.\"\n",
        "\n",
        "    # Devolver la presentación de la persona\n",
        "    return f\"Hola, mi nombre es {nombre} {apellido} y tengo {edad} años.\"\n",
        "\n",
        "# Ejemplo de uso del programa\n",
        "nombre = input(\"Ingrese su nombre (opcional): \") or \"None\"\n",
        "apellido = input(\"Ingrese su apellido (opcional): \") or \"Desconocido\"\n",
        "edad = input(\"Ingrese su edad (opcional): \") or 0\n",
        "\n",
        "resultado = presentar_persona(nombre, apellido, edad)\n",
        "print(resultado)\n"
      ],
      "metadata": {
        "id": "0UGfZYttorVd",
        "colab": {
          "base_uri": "https://localhost:8080/"
        },
        "outputId": "c16f16eb-619b-4a44-b86a-7f5f17f75f0f"
      },
      "execution_count": 55,
      "outputs": [
        {
          "output_type": "stream",
          "name": "stdout",
          "text": [
            "Ingrese su nombre (opcional): furci\n",
            "Ingrese su apellido (opcional): blanco\n",
            "Ingrese su edad (opcional): 5\n",
            "Hola, mi nombre es furci blanco y tengo 5 años.\n"
          ]
        }
      ]
    },
    {
      "cell_type": "code",
      "source": [
        "def Datos(nombre=\"Jesus\", apellido=\"Lucía\", edad=25):\n",
        "  if len(nombre) > 5:\n",
        "    print(\"No se acepta tu Nombre\")\n",
        "  else:\n",
        "    print(\"Se acepta tu Nombre\")\n",
        "    if type(Edad)==int:\n",
        "      print(\"Se acepta tu Edad\")\n",
        "      presentación=\"Hola mi nombre es \"+nombre+\" \"+apellido+\" y tengo \"+str(edadd)+\" años\"\n",
        "      return presentación\n",
        "    else:\n",
        "      print(\"Tampoco se acepta tu edad\")\n",
        "\n",
        "Prese=Datos(\"Jesus\",\"Lucía\")"
      ],
      "metadata": {
        "id": "OqBqJRyEqKgy",
        "colab": {
          "base_uri": "https://localhost:8080/",
          "height": 315
        },
        "outputId": "25914abf-fd6a-4290-f137-216e2c2d3a6e"
      },
      "execution_count": 62,
      "outputs": [
        {
          "output_type": "stream",
          "name": "stdout",
          "text": [
            "Se acepta tu Nombre\n"
          ]
        },
        {
          "output_type": "error",
          "ename": "NameError",
          "evalue": "name 'Edad' is not defined",
          "traceback": [
            "\u001b[0;31m---------------------------------------------------------------------------\u001b[0m",
            "\u001b[0;31mNameError\u001b[0m                                 Traceback (most recent call last)",
            "\u001b[0;32m<ipython-input-62-54739e996bda>\u001b[0m in \u001b[0;36m<cell line: 13>\u001b[0;34m()\u001b[0m\n\u001b[1;32m     11\u001b[0m       \u001b[0mprint\u001b[0m\u001b[0;34m(\u001b[0m\u001b[0;34m\"Tampoco se acepta tu edad\"\u001b[0m\u001b[0;34m)\u001b[0m\u001b[0;34m\u001b[0m\u001b[0;34m\u001b[0m\u001b[0m\n\u001b[1;32m     12\u001b[0m \u001b[0;34m\u001b[0m\u001b[0m\n\u001b[0;32m---> 13\u001b[0;31m \u001b[0mPrese\u001b[0m\u001b[0;34m=\u001b[0m\u001b[0mDatos\u001b[0m\u001b[0;34m(\u001b[0m\u001b[0;34m\"Jesus\"\u001b[0m\u001b[0;34m,\u001b[0m\u001b[0;34m\"Lucía\"\u001b[0m\u001b[0;34m)\u001b[0m\u001b[0;34m\u001b[0m\u001b[0;34m\u001b[0m\u001b[0m\n\u001b[0m",
            "\u001b[0;32m<ipython-input-62-54739e996bda>\u001b[0m in \u001b[0;36mDatos\u001b[0;34m(nombre, apellido, edad)\u001b[0m\n\u001b[1;32m      4\u001b[0m   \u001b[0;32melse\u001b[0m\u001b[0;34m:\u001b[0m\u001b[0;34m\u001b[0m\u001b[0;34m\u001b[0m\u001b[0m\n\u001b[1;32m      5\u001b[0m     \u001b[0mprint\u001b[0m\u001b[0;34m(\u001b[0m\u001b[0;34m\"Se acepta tu Nombre\"\u001b[0m\u001b[0;34m)\u001b[0m\u001b[0;34m\u001b[0m\u001b[0;34m\u001b[0m\u001b[0m\n\u001b[0;32m----> 6\u001b[0;31m     \u001b[0;32mif\u001b[0m \u001b[0mtype\u001b[0m\u001b[0;34m(\u001b[0m\u001b[0mEdad\u001b[0m\u001b[0;34m)\u001b[0m\u001b[0;34m==\u001b[0m\u001b[0mint\u001b[0m\u001b[0;34m:\u001b[0m\u001b[0;34m\u001b[0m\u001b[0;34m\u001b[0m\u001b[0m\n\u001b[0m\u001b[1;32m      7\u001b[0m       \u001b[0mprint\u001b[0m\u001b[0;34m(\u001b[0m\u001b[0;34m\"Se acepta tu Edad\"\u001b[0m\u001b[0;34m)\u001b[0m\u001b[0;34m\u001b[0m\u001b[0;34m\u001b[0m\u001b[0m\n\u001b[1;32m      8\u001b[0m       \u001b[0mpresentación\u001b[0m\u001b[0;34m=\u001b[0m\u001b[0;34m\"Hola mi nombre es \"\u001b[0m\u001b[0;34m+\u001b[0m\u001b[0mnombre\u001b[0m\u001b[0;34m+\u001b[0m\u001b[0;34m\" \"\u001b[0m\u001b[0;34m+\u001b[0m\u001b[0mapellido\u001b[0m\u001b[0;34m+\u001b[0m\u001b[0;34m\" y tengo \"\u001b[0m\u001b[0;34m+\u001b[0m\u001b[0mstr\u001b[0m\u001b[0;34m(\u001b[0m\u001b[0medadd\u001b[0m\u001b[0;34m)\u001b[0m\u001b[0;34m+\u001b[0m\u001b[0;34m\" años\"\u001b[0m\u001b[0;34m\u001b[0m\u001b[0;34m\u001b[0m\u001b[0m\n",
            "\u001b[0;31mNameError\u001b[0m: name 'Edad' is not defined"
          ]
        }
      ]
    }
  ]
}