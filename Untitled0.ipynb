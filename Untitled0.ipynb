{
  "nbformat": 4,
  "nbformat_minor": 0,
  "metadata": {
    "colab": {
      "provenance": [],
      "authorship_tag": "ABX9TyPtGHT16Pgd2MAJGjmK26VD",
      "include_colab_link": true
    },
    "kernelspec": {
      "name": "python3",
      "display_name": "Python 3"
    },
    "language_info": {
      "name": "python"
    }
  },
  "cells": [
    {
      "cell_type": "markdown",
      "metadata": {
        "id": "view-in-github",
        "colab_type": "text"
      },
      "source": [
        "<a href=\"https://colab.research.google.com/github/Yupipapuu/Tareas-THC/blob/main/Untitled0.ipynb\" target=\"_parent\"><img src=\"https://colab.research.google.com/assets/colab-badge.svg\" alt=\"Open In Colab\"/></a>"
      ]
    },
    {
      "cell_type": "code",
      "execution_count": null,
      "metadata": {
        "id": "2JerZMBlsVCe"
      },
      "outputs": [],
      "source": [
        "def mi_funcion(n)\n"
      ]
    },
    {
      "cell_type": "code",
      "source": [
        "def Ordenada(a,b):\n",
        "  return lambda x:a*x+b\n",
        "\n",
        "Recta=Ordenada(2,-1)\n",
        "for i in range(10):\n",
        "  print(\"y= \"str(Recta(i)))\n",
        "\n",
        "  y=\n"
      ],
      "metadata": {
        "id": "HVHy8A3Msx0S"
      },
      "execution_count": null,
      "outputs": []
    },
    {
      "cell_type": "code",
      "source": [
        "def Ordenada(a,b):\n",
        "  return lambda x:a*x+b\n",
        "\n",
        "Recta=Ordenada(2,-1)\n",
        "for i in range(10):\n",
        "  print(\"y= \"str(Recta(i)))"
      ],
      "metadata": {
        "id": "2LhCEJliuaNW"
      },
      "execution_count": null,
      "outputs": []
    },
    {
      "cell_type": "markdown",
      "source": [
        "  DICCIONARIO\n",
        "  "
      ],
      "metadata": {
        "id": "HvdSXbNdweBq"
      }
    },
    {
      "cell_type": "code",
      "source": [
        "import pandas as pd\n",
        "\n",
        "#Crear un diccionario con datos\n",
        "datos = {\n",
        "    'Nombre': ['Juan', 'María', 'Pedro', 'Iván', 'Alexander', 'Abi'],\n",
        "    'Edad': [25, 23, 70, 24, 18, 18],\n",
        "    'Estudia o Trabaja': ['estudia', 'estudia', 'trabaja', 'trabaja', 'estudia', 'estudia'],\n",
        "    'Estado civil': ['soltero', 'divorciada', 'casado', 'casado', 'soltero', 'viudo']\n",
        "\n",
        "}\n",
        "dataframe=pd.DataFrame(datos)\n",
        "dataframe.to_csv('datos.csv')"
      ],
      "metadata": {
        "id": "jeslt3diwc9G"
      },
      "execution_count": 5,
      "outputs": []
    }
  ]
}